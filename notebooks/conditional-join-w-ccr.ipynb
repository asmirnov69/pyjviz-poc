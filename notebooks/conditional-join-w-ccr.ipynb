{
 "cells": [
  {
   "cell_type": "code",
   "execution_count": 4,
   "id": "1aa79a67-ce55-4497-9044-aa1a017bd71d",
   "metadata": {},
   "outputs": [],
   "source": [
    "import sys; sys.path.append(\"..\")\n",
    "\n",
    "import pandas as pd\n",
    "\n",
    "import janitor.register as register\n",
    "from janitor.functions import *\n",
    "import janitor.pyjccr as pyjccr\n"
   ]
  },
  {
   "cell_type": "code",
   "execution_count": 5,
   "id": "16bd69d0-4e52-405a-af13-d74f30b77463",
   "metadata": {},
   "outputs": [
    {
     "name": "stdout",
     "output_type": "stream",
     "text": [
      "CCR start: p1\n",
      "ccr end: p1\n",
      "    df_id  right_id\n",
      "0       1         2\n",
      "1       1         2\n",
      "2       1         2\n",
      "3       1         3\n",
      "4       1         2\n",
      "5       1         2\n",
      "6       1         2\n",
      "7       1         3\n",
      "8       1         2\n",
      "9       1         2\n",
      "10      1         2\n",
      "11      1         3\n",
      "12      2         3\n",
      "13      2         3\n",
      "CCR start: p2\n",
      "ccr end: p2\n",
      "   value_1  value_2A  value_2B\n",
      "0        2         1         3\n",
      "1        5         3         6\n",
      "2        3         2         4\n",
      "3        4         3         5\n",
      "4        4         3         6\n"
     ]
    }
   ],
   "source": [
    "register.setup_pyjrdf_output(\"./rdflog.ttl\")\n",
    "\n",
    "df1 = pd.DataFrame({'id': [1,1,1,2,2,3], 'value_1': [2,5,7,1,3,4]})\n",
    "\n",
    "df2 = pd.DataFrame({'id': [1,1,1,1,2,2,2,3],\n",
    "                        'value_2A': [0,3,7,12,0,2,3,1],\n",
    "                        'value_2B': [1,5,9,15,1,4,6,3]})\n",
    "\n",
    "\n",
    "if 1:\n",
    "    res1 = pyjccr.CCR(\"p1\",\n",
    "                            lambda: df1.conditional_join(df2,\n",
    "                                                         ('id', 'id', \"<\"),\n",
    "                                                         df_columns = {'id':'df_id'},\n",
    "                                                         right_columns = {'id':'right_id'}\n",
    "                                                         ))\n",
    "    print(res1)\n",
    "\n",
    "if 1:\n",
    "    res2 = pyjccr.CCR(\"p2\",\n",
    "                            lambda: df1.select_columns('value_1').conditional_join(\n",
    "                                df2.select_columns('val*'),\n",
    "                                ('value_1', 'value_2A', '>'),\n",
    "                            ('value_1', 'value_2B', '<'))#.drop('value_1')\n",
    "                            )\n",
    "    print(res2)\n"
   ]
  },
  {
   "cell_type": "code",
   "execution_count": null,
   "id": "4bb1f2c9-c6b9-4fee-8387-26345d37c458",
   "metadata": {},
   "outputs": [],
   "source": []
  },
  {
   "cell_type": "code",
   "execution_count": null,
   "id": "75ff4760-a7de-4fcb-a7dd-85b25d8c71a5",
   "metadata": {},
   "outputs": [],
   "source": []
  }
 ],
 "metadata": {
  "kernelspec": {
   "display_name": "Python 3 (ipykernel)",
   "language": "python",
   "name": "python3"
  },
  "language_info": {
   "codemirror_mode": {
    "name": "ipython",
    "version": 3
   },
   "file_extension": ".py",
   "mimetype": "text/x-python",
   "name": "python",
   "nbconvert_exporter": "python",
   "pygments_lexer": "ipython3",
   "version": "3.10.6"
  }
 },
 "nbformat": 4,
 "nbformat_minor": 5
}
