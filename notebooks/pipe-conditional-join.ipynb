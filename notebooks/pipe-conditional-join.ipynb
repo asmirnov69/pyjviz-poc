{
 "cells": [
  {
   "cell_type": "code",
   "execution_count": 1,
   "id": "1aa79a67-ce55-4497-9044-aa1a017bd71d",
   "metadata": {},
   "outputs": [
    {
     "name": "stderr",
     "output_type": "stream",
     "text": [
      "/home/asmirnov/projects/pyjviz-poc/notebooks/../janitor/register.py:67: UserWarning: registration of accessor <class 'janitor.register.register_dataframe_method.<locals>.inner.<locals>.AccessorMethod'> under name 'drop' for type <class 'pandas.core.frame.DataFrame'> is overriding a preexisting attribute with the same name.\n",
      "  register_dataframe_accessor(method.__name__)(AccessorMethod)\n"
     ]
    }
   ],
   "source": [
    "import sys; sys.path.append(\"..\")\n",
    "\n",
    "import pandas as pd\n",
    "\n",
    "import janitor.register as register\n",
    "from janitor.functions import *\n",
    "import janitor.pyjpipe as pyjpipe\n"
   ]
  },
  {
   "cell_type": "code",
   "execution_count": 13,
   "id": "16bd69d0-4e52-405a-af13-d74f30b77463",
   "metadata": {},
   "outputs": [
    {
     "name": "stdout",
     "output_type": "stream",
     "text": [
      "pipe start: p2\n"
     ]
    },
    {
     "ename": "TypeError",
     "evalue": "drop() got an unexpected keyword argument 'axis'",
     "output_type": "error",
     "traceback": [
      "\u001b[0;31m---------------------------------------------------------------------------\u001b[0m",
      "\u001b[0;31mTypeError\u001b[0m                                 Traceback (most recent call last)",
      "Cell \u001b[0;32mIn [13], line 20\u001b[0m\n\u001b[1;32m     17\u001b[0m     \u001b[38;5;28mprint\u001b[39m(res1)\n\u001b[1;32m     19\u001b[0m \u001b[38;5;28;01mif\u001b[39;00m \u001b[38;5;241m1\u001b[39m:\n\u001b[0;32m---> 20\u001b[0m     res2 \u001b[38;5;241m=\u001b[39m pyjpipe\u001b[38;5;241m.\u001b[39mpipe(\u001b[38;5;124m\"\u001b[39m\u001b[38;5;124mp2\u001b[39m\u001b[38;5;124m\"\u001b[39m,\n\u001b[1;32m     21\u001b[0m                             \u001b[38;5;28;01mlambda\u001b[39;00m: df1\u001b[38;5;241m.\u001b[39mselect_columns(\u001b[38;5;124m'\u001b[39m\u001b[38;5;124mvalue_1\u001b[39m\u001b[38;5;124m'\u001b[39m)\u001b[38;5;241m.\u001b[39mconditional_join(\n\u001b[1;32m     22\u001b[0m                                 df2\u001b[38;5;241m.\u001b[39mselect_columns(\u001b[38;5;124m'\u001b[39m\u001b[38;5;124mval*\u001b[39m\u001b[38;5;124m'\u001b[39m),\n\u001b[1;32m     23\u001b[0m                                 (\u001b[38;5;124m'\u001b[39m\u001b[38;5;124mvalue_1\u001b[39m\u001b[38;5;124m'\u001b[39m, \u001b[38;5;124m'\u001b[39m\u001b[38;5;124mvalue_2A\u001b[39m\u001b[38;5;124m'\u001b[39m, \u001b[38;5;124m'\u001b[39m\u001b[38;5;124m>\u001b[39m\u001b[38;5;124m'\u001b[39m),\n\u001b[1;32m     24\u001b[0m                             (\u001b[38;5;124m'\u001b[39m\u001b[38;5;124mvalue_1\u001b[39m\u001b[38;5;124m'\u001b[39m, \u001b[38;5;124m'\u001b[39m\u001b[38;5;124mvalue_2B\u001b[39m\u001b[38;5;124m'\u001b[39m, \u001b[38;5;124m'\u001b[39m\u001b[38;5;124m<\u001b[39m\u001b[38;5;124m'\u001b[39m))\u001b[38;5;241m.\u001b[39mdrop(\u001b[38;5;124m'\u001b[39m\u001b[38;5;124mvalue_1\u001b[39m\u001b[38;5;124m'\u001b[39m, axis \u001b[38;5;241m=\u001b[39m \u001b[38;5;241m1\u001b[39m)\n\u001b[1;32m     25\u001b[0m                             )\n\u001b[1;32m     26\u001b[0m     \u001b[38;5;28mprint\u001b[39m(res2)\n",
      "File \u001b[0;32m~/projects/pyjviz-poc/notebooks/../janitor/pyjpipe.py:9\u001b[0m, in \u001b[0;36mpipe\u001b[0;34m(pipe_name, pb)\u001b[0m\n\u001b[1;32m      7\u001b[0m \u001b[38;5;28mprint\u001b[39m(\u001b[38;5;124m\"\u001b[39m\u001b[38;5;124mpipe start:\u001b[39m\u001b[38;5;124m\"\u001b[39m, pipe_name)\n\u001b[1;32m      8\u001b[0m \u001b[38;5;28mglobals\u001b[39m()[\u001b[38;5;124m'\u001b[39m\u001b[38;5;124mcurr_pipe_name\u001b[39m\u001b[38;5;124m'\u001b[39m] \u001b[38;5;241m=\u001b[39m pipe_name\n\u001b[0;32m----> 9\u001b[0m ret \u001b[38;5;241m=\u001b[39m \u001b[43mpb\u001b[49m\u001b[43m(\u001b[49m\u001b[43m)\u001b[49m\n\u001b[1;32m     10\u001b[0m \u001b[38;5;28mprint\u001b[39m(\u001b[38;5;124m\"\u001b[39m\u001b[38;5;124mpipe end:\u001b[39m\u001b[38;5;124m\"\u001b[39m, pipe_name)\n\u001b[1;32m     11\u001b[0m \u001b[38;5;28;01mreturn\u001b[39;00m ret\n",
      "Cell \u001b[0;32mIn [13], line 21\u001b[0m, in \u001b[0;36m<lambda>\u001b[0;34m()\u001b[0m\n\u001b[1;32m     17\u001b[0m     \u001b[38;5;28mprint\u001b[39m(res1)\n\u001b[1;32m     19\u001b[0m \u001b[38;5;28;01mif\u001b[39;00m \u001b[38;5;241m1\u001b[39m:\n\u001b[1;32m     20\u001b[0m     res2 \u001b[38;5;241m=\u001b[39m pyjpipe\u001b[38;5;241m.\u001b[39mpipe(\u001b[38;5;124m\"\u001b[39m\u001b[38;5;124mp2\u001b[39m\u001b[38;5;124m\"\u001b[39m,\n\u001b[0;32m---> 21\u001b[0m                             \u001b[38;5;28;01mlambda\u001b[39;00m: \u001b[43mdf1\u001b[49m\u001b[38;5;241;43m.\u001b[39;49m\u001b[43mselect_columns\u001b[49m\u001b[43m(\u001b[49m\u001b[38;5;124;43m'\u001b[39;49m\u001b[38;5;124;43mvalue_1\u001b[39;49m\u001b[38;5;124;43m'\u001b[39;49m\u001b[43m)\u001b[49m\u001b[38;5;241;43m.\u001b[39;49m\u001b[43mconditional_join\u001b[49m\u001b[43m(\u001b[49m\n\u001b[1;32m     22\u001b[0m \u001b[43m                                \u001b[49m\u001b[43mdf2\u001b[49m\u001b[38;5;241;43m.\u001b[39;49m\u001b[43mselect_columns\u001b[49m\u001b[43m(\u001b[49m\u001b[38;5;124;43m'\u001b[39;49m\u001b[38;5;124;43mval*\u001b[39;49m\u001b[38;5;124;43m'\u001b[39;49m\u001b[43m)\u001b[49m\u001b[43m,\u001b[49m\n\u001b[1;32m     23\u001b[0m \u001b[43m                                \u001b[49m\u001b[43m(\u001b[49m\u001b[38;5;124;43m'\u001b[39;49m\u001b[38;5;124;43mvalue_1\u001b[39;49m\u001b[38;5;124;43m'\u001b[39;49m\u001b[43m,\u001b[49m\u001b[43m \u001b[49m\u001b[38;5;124;43m'\u001b[39;49m\u001b[38;5;124;43mvalue_2A\u001b[39;49m\u001b[38;5;124;43m'\u001b[39;49m\u001b[43m,\u001b[49m\u001b[43m \u001b[49m\u001b[38;5;124;43m'\u001b[39;49m\u001b[38;5;124;43m>\u001b[39;49m\u001b[38;5;124;43m'\u001b[39;49m\u001b[43m)\u001b[49m\u001b[43m,\u001b[49m\n\u001b[1;32m     24\u001b[0m \u001b[43m                            \u001b[49m\u001b[43m(\u001b[49m\u001b[38;5;124;43m'\u001b[39;49m\u001b[38;5;124;43mvalue_1\u001b[39;49m\u001b[38;5;124;43m'\u001b[39;49m\u001b[43m,\u001b[49m\u001b[43m \u001b[49m\u001b[38;5;124;43m'\u001b[39;49m\u001b[38;5;124;43mvalue_2B\u001b[39;49m\u001b[38;5;124;43m'\u001b[39;49m\u001b[43m,\u001b[49m\u001b[43m \u001b[49m\u001b[38;5;124;43m'\u001b[39;49m\u001b[38;5;124;43m<\u001b[39;49m\u001b[38;5;124;43m'\u001b[39;49m\u001b[43m)\u001b[49m\u001b[43m)\u001b[49m\u001b[38;5;241;43m.\u001b[39;49m\u001b[43mdrop\u001b[49m\u001b[43m(\u001b[49m\u001b[38;5;124;43m'\u001b[39;49m\u001b[38;5;124;43mvalue_1\u001b[39;49m\u001b[38;5;124;43m'\u001b[39;49m\u001b[43m,\u001b[49m\u001b[43m \u001b[49m\u001b[43maxis\u001b[49m\u001b[43m \u001b[49m\u001b[38;5;241;43m=\u001b[39;49m\u001b[43m \u001b[49m\u001b[38;5;241;43m1\u001b[39;49m\u001b[43m)\u001b[49m\n\u001b[1;32m     25\u001b[0m                             )\n\u001b[1;32m     26\u001b[0m     \u001b[38;5;28mprint\u001b[39m(res2)\n",
      "File \u001b[0;32m~/projects/pyjviz-poc/notebooks/../janitor/register.py:56\u001b[0m, in \u001b[0;36mregister_dataframe_method.<locals>.inner.<locals>.AccessorMethod.__call__\u001b[0;34m(self, *args, **kwargs)\u001b[0m\n\u001b[1;32m     53\u001b[0m pyjrdf\u001b[38;5;241m.\u001b[39mregister_dataframe(\u001b[38;5;28mself\u001b[39m\u001b[38;5;241m.\u001b[39m_obj)\n\u001b[1;32m     54\u001b[0m pipe_this \u001b[38;5;241m=\u001b[39m \u001b[38;5;28mid\u001b[39m(\u001b[38;5;28mself\u001b[39m\u001b[38;5;241m.\u001b[39m_obj)\n\u001b[0;32m---> 56\u001b[0m ret \u001b[38;5;241m=\u001b[39m \u001b[43mmethod\u001b[49m\u001b[43m(\u001b[49m\u001b[38;5;28;43mself\u001b[39;49m\u001b[38;5;241;43m.\u001b[39;49m\u001b[43m_obj\u001b[49m\u001b[43m,\u001b[49m\u001b[43m \u001b[49m\u001b[38;5;241;43m*\u001b[39;49m\u001b[43margs\u001b[49m\u001b[43m,\u001b[49m\u001b[43m \u001b[49m\u001b[38;5;241;43m*\u001b[39;49m\u001b[38;5;241;43m*\u001b[39;49m\u001b[43mkwargs\u001b[49m\u001b[43m)\u001b[49m\n\u001b[1;32m     57\u001b[0m \u001b[38;5;28;01mif\u001b[39;00m \u001b[38;5;28mid\u001b[39m(ret) \u001b[38;5;241m==\u001b[39m \u001b[38;5;28mid\u001b[39m(\u001b[38;5;28mself\u001b[39m\u001b[38;5;241m.\u001b[39m_obj):\n\u001b[1;32m     58\u001b[0m     ret \u001b[38;5;241m=\u001b[39m pd\u001b[38;5;241m.\u001b[39mDataFrame(\u001b[38;5;28mself\u001b[39m\u001b[38;5;241m.\u001b[39m_obj)\n",
      "\u001b[0;31mTypeError\u001b[0m: drop() got an unexpected keyword argument 'axis'"
     ]
    }
   ],
   "source": [
    "register.setup_pyjrdf_output(\"./test-rdf.ttl\")\n",
    "\n",
    "df1 = pd.DataFrame({'id': [1,1,1,2,2,3], 'value_1': [2,5,7,1,3,4]})\n",
    "\n",
    "df2 = pd.DataFrame({'id': [1,1,1,1,2,2,2,3],\n",
    "                        'value_2A': [0,3,7,12,0,2,3,1],\n",
    "                        'value_2B': [1,5,9,15,1,4,6,3]})\n",
    "\n",
    "\n",
    "if 0:\n",
    "    res1 = pyjpipe.pipe(\"p1\",\n",
    "                            lambda: df1.conditional_join(df2,\n",
    "                                                         ('id', 'id', \"<\"),\n",
    "                                                         df_columns = {'id':'df_id'},\n",
    "                                                         right_columns = {'id':'right_id'}\n",
    "                                                         ))\n",
    "    print(res1)\n",
    "\n",
    "if 1:\n",
    "    res2 = pyjpipe.pipe(\"p2\",\n",
    "                            lambda: df1.select_columns('value_1').conditional_join(\n",
    "                                df2.select_columns('val*'),\n",
    "                                ('value_1', 'value_2A', '>'),\n",
    "                            ('value_1', 'value_2B', '<')).drop('value_1', axis = 1)\n",
    "                            )\n",
    "    print(res2)\n"
   ]
  },
  {
   "cell_type": "code",
   "execution_count": 10,
   "id": "63f98d2b-0363-4a7d-9f56-c9629342be50",
   "metadata": {},
   "outputs": [
    {
     "data": {
      "image/svg+xml": [
       "<?xml version=\"1.0\" encoding=\"UTF-8\" standalone=\"no\"?>\n",
       "<!DOCTYPE svg PUBLIC \"-//W3C//DTD SVG 1.1//EN\"\n",
       " \"http://www.w3.org/Graphics/SVG/1.1/DTD/svg11.dtd\">\n",
       "<!-- Generated by graphviz version 2.43.0 (0)\n",
       " -->\n",
       "<!-- Title: G Pages: 1 -->\n",
       "<svg width=\"447pt\" height=\"387pt\"\n",
       " viewBox=\"0.00 0.00 447.00 387.00\" xmlns=\"http://www.w3.org/2000/svg\" xmlns:xlink=\"http://www.w3.org/1999/xlink\">\n",
       "<g id=\"graph0\" class=\"graph\" transform=\"scale(1 1) rotate(0) translate(4 383)\">\n",
       "<title>G</title>\n",
       "<polygon fill=\"white\" stroke=\"transparent\" points=\"-4,4 -4,-383 443,-383 443,4 -4,4\"/>\n",
       "<g id=\"clust1\" class=\"cluster\">\n",
       "<title>cluster_0</title>\n",
       "<polygon fill=\"none\" stroke=\"black\" points=\"8,-8 8,-371 431,-371 431,-8 8,-8\"/>\n",
       "<text text-anchor=\"middle\" x=\"219.5\" y=\"-355.8\" font-family=\"Helvetica,Arial,sans-serif\" font-size=\"14.00\">p2</text>\n",
       "</g>\n",
       "<!-- node0_0 -->\n",
       "<g id=\"node1\" class=\"node\">\n",
       "<title>node0_0</title>\n",
       "<ellipse fill=\"none\" stroke=\"black\" cx=\"326\" cy=\"-322\" rx=\"97.48\" ry=\"18\"/>\n",
       "<text text-anchor=\"middle\" x=\"326\" y=\"-318.3\" font-family=\"Helvetica,Arial,sans-serif\" font-size=\"14.00\">pyj:140479097009488</text>\n",
       "</g>\n",
       "<!-- node0_5 -->\n",
       "<g id=\"node6\" class=\"node\">\n",
       "<title>node0_5</title>\n",
       "<ellipse fill=\"none\" stroke=\"black\" cx=\"326\" cy=\"-250\" rx=\"71.49\" ry=\"18\"/>\n",
       "<text text-anchor=\"middle\" x=\"326\" y=\"-246.3\" font-family=\"Helvetica,Arial,sans-serif\" font-size=\"14.00\">select_columns</text>\n",
       "</g>\n",
       "<!-- node0_0&#45;&gt;node0_5 -->\n",
       "<g id=\"edge1\" class=\"edge\">\n",
       "<title>node0_0&#45;&gt;node0_5</title>\n",
       "<path fill=\"none\" stroke=\"black\" d=\"M326,-303.7C326,-295.98 326,-286.71 326,-278.11\"/>\n",
       "<polygon fill=\"black\" stroke=\"black\" points=\"329.5,-278.1 326,-268.1 322.5,-278.1 329.5,-278.1\"/>\n",
       "</g>\n",
       "<!-- node0_1 -->\n",
       "<g id=\"node2\" class=\"node\">\n",
       "<title>node0_1</title>\n",
       "<ellipse fill=\"none\" stroke=\"black\" cx=\"326\" cy=\"-178\" rx=\"97.48\" ry=\"18\"/>\n",
       "<text text-anchor=\"middle\" x=\"326\" y=\"-174.3\" font-family=\"Helvetica,Arial,sans-serif\" font-size=\"14.00\">pyj:140479097934976</text>\n",
       "</g>\n",
       "<!-- node0_7 -->\n",
       "<g id=\"node8\" class=\"node\">\n",
       "<title>node0_7</title>\n",
       "<ellipse fill=\"none\" stroke=\"black\" cx=\"219\" cy=\"-106\" rx=\"71.49\" ry=\"18\"/>\n",
       "<text text-anchor=\"middle\" x=\"219\" y=\"-102.3\" font-family=\"Helvetica,Arial,sans-serif\" font-size=\"14.00\">conditional_join</text>\n",
       "</g>\n",
       "<!-- node0_1&#45;&gt;node0_7 -->\n",
       "<g id=\"edge2\" class=\"edge\">\n",
       "<title>node0_1&#45;&gt;node0_7</title>\n",
       "<path fill=\"none\" stroke=\"black\" d=\"M300.91,-160.59C286.32,-151.04 267.75,-138.9 251.99,-128.58\"/>\n",
       "<polygon fill=\"black\" stroke=\"black\" points=\"253.85,-125.61 243.56,-123.07 250.01,-131.47 253.85,-125.61\"/>\n",
       "</g>\n",
       "<!-- node0_2 -->\n",
       "<g id=\"node3\" class=\"node\">\n",
       "<title>node0_2</title>\n",
       "<ellipse fill=\"none\" stroke=\"black\" cx=\"113\" cy=\"-322\" rx=\"97.48\" ry=\"18\"/>\n",
       "<text text-anchor=\"middle\" x=\"113\" y=\"-318.3\" font-family=\"Helvetica,Arial,sans-serif\" font-size=\"14.00\">pyj:140479098334096</text>\n",
       "</g>\n",
       "<!-- node0_6 -->\n",
       "<g id=\"node7\" class=\"node\">\n",
       "<title>node0_6</title>\n",
       "<ellipse fill=\"none\" stroke=\"black\" cx=\"113\" cy=\"-250\" rx=\"71.49\" ry=\"18\"/>\n",
       "<text text-anchor=\"middle\" x=\"113\" y=\"-246.3\" font-family=\"Helvetica,Arial,sans-serif\" font-size=\"14.00\">select_columns</text>\n",
       "</g>\n",
       "<!-- node0_2&#45;&gt;node0_6 -->\n",
       "<g id=\"edge3\" class=\"edge\">\n",
       "<title>node0_2&#45;&gt;node0_6</title>\n",
       "<path fill=\"none\" stroke=\"black\" d=\"M113,-303.7C113,-295.98 113,-286.71 113,-278.11\"/>\n",
       "<polygon fill=\"black\" stroke=\"black\" points=\"116.5,-278.1 113,-268.1 109.5,-278.1 116.5,-278.1\"/>\n",
       "</g>\n",
       "<!-- node0_3 -->\n",
       "<g id=\"node4\" class=\"node\">\n",
       "<title>node0_3</title>\n",
       "<ellipse fill=\"none\" stroke=\"black\" cx=\"113\" cy=\"-178\" rx=\"97.48\" ry=\"18\"/>\n",
       "<text text-anchor=\"middle\" x=\"113\" y=\"-174.3\" font-family=\"Helvetica,Arial,sans-serif\" font-size=\"14.00\">pyj:140479097941696</text>\n",
       "</g>\n",
       "<!-- node0_3&#45;&gt;node0_7 -->\n",
       "<g id=\"edge4\" class=\"edge\">\n",
       "<title>node0_3&#45;&gt;node0_7</title>\n",
       "<path fill=\"none\" stroke=\"black\" d=\"M137.85,-160.59C152.31,-151.04 170.7,-138.9 186.32,-128.58\"/>\n",
       "<polygon fill=\"black\" stroke=\"black\" points=\"188.25,-131.5 194.67,-123.07 184.4,-125.66 188.25,-131.5\"/>\n",
       "</g>\n",
       "<!-- node0_4 -->\n",
       "<g id=\"node5\" class=\"node\">\n",
       "<title>node0_4</title>\n",
       "<ellipse fill=\"none\" stroke=\"black\" cx=\"219\" cy=\"-34\" rx=\"97.48\" ry=\"18\"/>\n",
       "<text text-anchor=\"middle\" x=\"219\" y=\"-30.3\" font-family=\"Helvetica,Arial,sans-serif\" font-size=\"14.00\">pyj:140479994818384</text>\n",
       "</g>\n",
       "<!-- node0_5&#45;&gt;node0_1 -->\n",
       "<g id=\"edge5\" class=\"edge\">\n",
       "<title>node0_5&#45;&gt;node0_1</title>\n",
       "<path fill=\"none\" stroke=\"black\" d=\"M326,-231.7C326,-223.98 326,-214.71 326,-206.11\"/>\n",
       "<polygon fill=\"black\" stroke=\"black\" points=\"329.5,-206.1 326,-196.1 322.5,-206.1 329.5,-206.1\"/>\n",
       "</g>\n",
       "<!-- node0_6&#45;&gt;node0_3 -->\n",
       "<g id=\"edge6\" class=\"edge\">\n",
       "<title>node0_6&#45;&gt;node0_3</title>\n",
       "<path fill=\"none\" stroke=\"black\" d=\"M113,-231.7C113,-223.98 113,-214.71 113,-206.11\"/>\n",
       "<polygon fill=\"black\" stroke=\"black\" points=\"116.5,-206.1 113,-196.1 109.5,-206.1 116.5,-206.1\"/>\n",
       "</g>\n",
       "<!-- node0_7&#45;&gt;node0_4 -->\n",
       "<g id=\"edge7\" class=\"edge\">\n",
       "<title>node0_7&#45;&gt;node0_4</title>\n",
       "<path fill=\"none\" stroke=\"black\" d=\"M219,-87.7C219,-79.98 219,-70.71 219,-62.11\"/>\n",
       "<polygon fill=\"black\" stroke=\"black\" points=\"222.5,-62.1 219,-52.1 215.5,-62.1 222.5,-62.1\"/>\n",
       "</g>\n",
       "</g>\n",
       "</svg>\n"
      ],
      "text/plain": [
       "<graphviz.sources.Source at 0x7fc3d6ace9e0>"
      ]
     },
     "metadata": {},
     "output_type": "display_data"
    }
   ],
   "source": [
    "import graphviz \n",
    "from IPython.display import display\n",
    "import rdflib\n",
    "import janitor.pyjviz as pyjviz\n",
    "\n",
    "pyjlog_ttl_fn = \"./test-rdf.ttl\"\n",
    "g = rdflib.Graph()\n",
    "g.parse(pyjlog_ttl_fn)\n",
    "dot_code = pyjviz.dump_dot_code(g)\n",
    "\n",
    "source= dot_code\n",
    "gvz=graphviz.Source(source)\n",
    "# produce PDF\n",
    "#gvz.view()\n",
    "#print (gvz.source)\n",
    "display(gvz)"
   ]
  },
  {
   "cell_type": "code",
   "execution_count": null,
   "id": "4bb1f2c9-c6b9-4fee-8387-26345d37c458",
   "metadata": {},
   "outputs": [],
   "source": []
  }
 ],
 "metadata": {
  "kernelspec": {
   "display_name": "Python 3 (ipykernel)",
   "language": "python",
   "name": "python3"
  },
  "language_info": {
   "codemirror_mode": {
    "name": "ipython",
    "version": 3
   },
   "file_extension": ".py",
   "mimetype": "text/x-python",
   "name": "python",
   "nbconvert_exporter": "python",
   "pygments_lexer": "ipython3",
   "version": "3.10.6"
  }
 },
 "nbformat": 4,
 "nbformat_minor": 5
}
